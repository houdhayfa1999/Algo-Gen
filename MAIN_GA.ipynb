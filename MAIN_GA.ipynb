{
 "cells": [
  {
   "cell_type": "code",
   "execution_count": null,
   "metadata": {},
   "outputs": [],
   "source": [
    "import numpy\n",
    "#import GA_Genetic_algorithm"
   ]
  },
  {
   "cell_type": "code",
   "execution_count": null,
   "metadata": {},
   "outputs": [],
   "source": [
    "'y=w1*x1+w2*x2+w3*x3+w4*x4+w5*x5+w6*x6'"
   ]
  },
  {
   "cell_type": "code",
   "execution_count": null,
   "metadata": {},
   "outputs": [],
   "source": [
    "# data set\n",
    "# parame\n",
    "#les parametre d'un alghorime genetique:\n",
    "#1. Nombre de solution par population\n",
    "#2. Taille de la poppuletion\n",
    "#3. le nombre des parents\n",
    "#4. Intervalle des valeurs a generer\n",
    "#5. Nombre des generations\n",
    "#importation des donnes\n",
    "Data_inputs=[4,-2,7,5,11,1]\n",
    "#definir le nombe des poids\n",
    "num_weights=len(Data_inputs)\n",
    "#taille de la popullation\n",
    "solution_per_population=6\n",
    "#mating pool size\n",
    "num_parents_mating=3\n",
    "#definir la taille de la population\n",
    "Population_size=(solution_per_population,num_weights)\n",
    "#1. initialisation (la generation aleatoire de la premier population)\n",
    "new_population = numpy.random.uniform(low=-8.0 , high=8.0 , size = Population_size) \n",
    "\n",
    "nombre_des_generation=100\n",
    "\n",
    "\n",
    "for generation in range (nombre_des_generation):\n",
    "    print (\"C'est la generation:\",generation)\n",
    "    #2. Fitness assignmentt (calcul de la fonction fitness)\n",
    "    fitness= GA_Genetic_algorithm.cal_pop_fitness (Data_inputs,new_population)\n",
    "    print (\"Fitness\",fitness)\n",
    "    #3. Selection\n",
    "    \n",
    "    #parent=GenaticAlgorithm.select.mating_pool()\n",
    "    #4. Crossover\n",
    "    #5. Mutation"
   ]
  }
 ],
 "metadata": {
  "language_info": {
   "name": "python"
  }
 },
 "nbformat": 4,
 "nbformat_minor": 2
}
